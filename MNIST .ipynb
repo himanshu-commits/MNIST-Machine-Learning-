{
 "cells": [
  {
   "cell_type": "markdown",
   "id": "moved-measurement",
   "metadata": {},
   "source": [
    "## Importing the library"
   ]
  },
  {
   "cell_type": "code",
   "execution_count": 158,
   "id": "corrected-seven",
   "metadata": {},
   "outputs": [],
   "source": [
    "import numpy as np\n",
    "import pandas as pd\n",
    "%matplotlib inline\n",
    "import matplotlib\n",
    "from matplotlib import pyplot as plt\n",
    "from sklearn.linear_model import LogisticRegression"
   ]
  },
  {
   "cell_type": "markdown",
   "id": "spatial-license",
   "metadata": {},
   "source": [
    "## Loading the dataset"
   ]
  },
  {
   "cell_type": "code",
   "execution_count": 159,
   "id": "waiting-police",
   "metadata": {},
   "outputs": [],
   "source": [
    "data=pd.read_csv('mnist_train.csv')\n",
    "data_test=pd.read_csv('mnist_test.csv')\n",
    "data_test=np.array(data_test)"
   ]
  },
  {
   "cell_type": "markdown",
   "id": "alien-measurement",
   "metadata": {},
   "source": [
    "## slicing and cleaning up the data"
   ]
  },
  {
   "cell_type": "code",
   "execution_count": 160,
   "id": "dated-township",
   "metadata": {},
   "outputs": [],
   "source": [
    "from sklearn.model_selection import train_test_split"
   ]
  },
  {
   "cell_type": "code",
   "execution_count": 161,
   "id": "annoying-future",
   "metadata": {},
   "outputs": [],
   "source": [
    "y=data['label']\n",
    "y=np.array(y)\n"
   ]
  },
  {
   "cell_type": "code",
   "execution_count": 162,
   "id": "failing-startup",
   "metadata": {},
   "outputs": [],
   "source": [
    "x=data.iloc[0:42000,1:785]\n",
    "x=np.array(x)"
   ]
  },
  {
   "cell_type": "code",
   "execution_count": 167,
   "id": "honest-piano",
   "metadata": {},
   "outputs": [],
   "source": [
    "x_train,x_test,y_train,y_test=train_test_split(x,y,test_size=0.33,random_state=42)"
   ]
  },
  {
   "cell_type": "code",
   "execution_count": 168,
   "id": "quiet-ratio",
   "metadata": {},
   "outputs": [],
   "source": [
    "shuffle_training_sets=np.random.permutation(28140)\n",
    "x_train,y_train=x_train[shuffle_training_sets],y_train[shuffle_training_sets]"
   ]
  },
  {
   "cell_type": "markdown",
   "id": "limiting-particular",
   "metadata": {},
   "source": [
    "## Visualization the data"
   ]
  },
  {
   "cell_type": "code",
   "execution_count": 169,
   "id": "julian-clothing",
   "metadata": {},
   "outputs": [],
   "source": [
    "some_digit=x_train[13001]\n",
    "some_digit_image=some_digit.reshape(28,28)"
   ]
  },
  {
   "cell_type": "code",
   "execution_count": 170,
   "id": "historical-disaster",
   "metadata": {},
   "outputs": [
    {
     "data": {
      "text/plain": [
       "(-0.5, 27.5, 27.5, -0.5)"
      ]
     },
     "execution_count": 170,
     "metadata": {},
     "output_type": "execute_result"
    },
    {
     "data": {
      "image/png": "[encoded data removed]",
      "text/plain": [
       "<Figure size 432x288 with 1 Axes>"
      ]
     },
     "metadata": {
      "needs_background": "light"
     },
     "output_type": "display_data"
    }
   ],
   "source": [
    "plt.imshow(some_digit_image,cmap=matplotlib.cm.binary,interpolation='nearest')\n",
    "plt.axis('off')"
   ]
  },
  {
   "cell_type": "code",
   "execution_count": 171,
   "id": "north-letters",
   "metadata": {},
   "outputs": [],
   "source": [
    "some_digit2=x_train[1500]\n",
    "some_digit_image2=some_digit2.reshape(28,28)"
   ]
  },
  {
   "cell_type": "code",
   "execution_count": 172,
   "id": "social-headset",
   "metadata": {},
   "outputs": [
    {
     "data": {
      "text/plain": [
       "(-0.5, 27.5, 27.5, -0.5)"
      ]
     },
     "execution_count": 172,
     "metadata": {},
     "output_type": "execute_result"
    },
    {
     "data": {
      "image/png": "[encoded data removed]",
      "text/plain": [
       "<Figure size 432x288 with 1 Axes>"
      ]
     },
     "metadata": {
      "needs_background": "light"
     },
     "output_type": "display_data"
    }
   ],
   "source": [
    "plt.imshow(some_digit_image2,cmap=matplotlib.cm.binary,interpolation='nearest')\n",
    "plt.axis('off')"
   ]
  },
  {
   "cell_type": "markdown",
   "id": "grand-burst",
   "metadata": {},
   "source": [
    "## Training the data"
   ]
  },
  {
   "cell_type": "code",
   "execution_count": 173,
   "id": "fleet-bristol",
   "metadata": {},
   "outputs": [],
   "source": [
    "from sklearn.model_selection import cross_val_score"
   ]
  },
  {
   "cell_type": "code",
   "execution_count": 174,
   "id": "atomic-radical",
   "metadata": {},
   "outputs": [],
   "source": [
    "model=LogisticRegression()"
   ]
  },
  {
   "cell_type": "code",
   "execution_count": 175,
   "id": "romantic-maximum",
   "metadata": {},
   "outputs": [
    {
     "name": "stderr",
     "output_type": "stream",
     "text": [
      "c:\\python\\python39\\lib\\site-packages\\sklearn\\linear_model\\_logistic.py:763: ConvergenceWarning: lbfgs failed to converge (status=1):\n",
      "STOP: TOTAL NO. of ITERATIONS REACHED LIMIT.\n",
      "\n",
      "Increase the number of iterations (max_iter) or scale the data as shown in:\n",
      "    https://scikit-learn.org/stable/modules/preprocessing.html\n",
      "Please also refer to the documentation for alternative solver options:\n",
      "    https://scikit-learn.org/stable/modules/linear_model.html#logistic-regression\n",
      "  n_iter_i = _check_optimize_result(\n"
     ]
    },
    {
     "data": {
      "text/plain": [
       "LogisticRegression()"
      ]
     },
     "execution_count": 175,
     "metadata": {},
     "output_type": "execute_result"
    }
   ],
   "source": [
    "model.fit(x_train,y_train)"
   ]
  },
  {
   "cell_type": "markdown",
   "id": "ranging-sudan",
   "metadata": {},
   "source": [
    "## Testing the data"
   ]
  },
  {
   "cell_type": "code",
   "execution_count": 176,
   "id": "anticipated-relay",
   "metadata": {},
   "outputs": [],
   "source": [
    "prediction=model.predict(x_test)"
   ]
  },
  {
   "cell_type": "code",
   "execution_count": 177,
   "id": "fossil-legend",
   "metadata": {},
   "outputs": [],
   "source": [
    "from sklearn.metrics import classification_report"
   ]
  },
  {
   "cell_type": "code",
   "execution_count": 178,
   "id": "threaded-verification",
   "metadata": {},
   "outputs": [
    {
     "name": "stdout",
     "output_type": "stream",
     "text": [
      "              precision    recall  f1-score   support\n",
      "\n",
      "           0       0.94      0.96      0.95      1333\n",
      "           1       0.96      0.97      0.96      1520\n",
      "           2       0.91      0.90      0.90      1414\n",
      "           3       0.89      0.88      0.88      1471\n",
      "           4       0.92      0.93      0.93      1358\n",
      "           5       0.86      0.86      0.86      1205\n",
      "           6       0.94      0.95      0.94      1397\n",
      "           7       0.94      0.92      0.93      1480\n",
      "           8       0.88      0.88      0.88      1334\n",
      "           9       0.89      0.90      0.89      1348\n",
      "\n",
      "    accuracy                           0.92     13860\n",
      "   macro avg       0.91      0.91      0.91     13860\n",
      "weighted avg       0.92      0.92      0.92     13860\n",
      "\n"
     ]
    }
   ],
   "source": [
    "print(classification_report(y_test,prediction))"
   ]
  }
 ],
 "metadata": {
  "kernelspec": {
   "display_name": "Python 3",
   "language": "python",
   "name": "python3"
  },
  "language_info": {
   "codemirror_mode": {
    "name": "ipython",
    "version": 3
   },
   "file_extension": ".py",
   "mimetype": "text/x-python",
   "name": "python",
   "nbconvert_exporter": "python",
   "pygments_lexer": "ipython3",
   "version": "3.9.0"
  }
 },
 "nbformat": 4,
 "nbformat_minor": 5
}
